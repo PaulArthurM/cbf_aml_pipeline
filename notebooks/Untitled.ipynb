{
 "cells": [
  {
   "cell_type": "code",
   "execution_count": 1,
   "metadata": {},
   "outputs": [],
   "source": [
    "from SigProfilerMatrixGenerator.scripts import SigProfilerMatrixGeneratorFunc as matGen\n"
   ]
  },
  {
   "cell_type": "code",
   "execution_count": null,
   "metadata": {},
   "outputs": [
    {
     "name": "stdout",
     "output_type": "stream",
     "text": [
      "Beginning installation. This may take up to 40 minutes to complete.\n",
      "The transcriptional reference data for GRCh37 has been saved.\n",
      "All reference files have been created.\n",
      "Verifying and benchmarking installation now...\n",
      "Starting matrix generation for SNVs and DINUCs...Completed! Elapsed time: 5.31 seconds.\n",
      "Matrices generated for 1 samples with 0 errors. Total of 2430 SNVs, 0 DINUCs, and 0 INDELs were successfully analyzed.\n",
      "Installation was succesful.\n",
      "SigProfilerMatrixGenerator took 5.369678735733032 seconds to complete.\n",
      "To proceed with matrix_generation, please provide the path to your vcf files and an appropriate output path.\n",
      "Installation complete.\n"
     ]
    }
   ],
   "source": [
    "from SigProfilerMatrixGenerator import install as genInstall\n",
    "genInstall.install('GRCh37')"
   ]
  },
  {
   "cell_type": "code",
   "execution_count": 10,
   "metadata": {},
   "outputs": [],
   "source": [
    "project = \"SJCBF_TEST\"\n",
    "genome = \"GRCh37\"\n",
    "vcfFiles = \"/home/puissant/Documents/Analyse\\ Interference\\ Clonal/\""
   ]
  },
  {
   "cell_type": "code",
   "execution_count": 11,
   "metadata": {},
   "outputs": [
    {
     "name": "stdout",
     "output_type": "stream",
     "text": [
      "File format not supported\n"
     ]
    },
    {
     "ename": "UnboundLocalError",
     "evalue": "local variable 'samples' referenced before assignment",
     "output_type": "error",
     "traceback": [
      "\u001b[0;31m---------------------------------------------------------------------------\u001b[0m",
      "\u001b[0;31mUnboundLocalError\u001b[0m                         Traceback (most recent call last)",
      "\u001b[0;32m<ipython-input-11-03fd33f2ddcb>\u001b[0m in \u001b[0;36m<module>\u001b[0;34m\u001b[0m\n\u001b[0;32m----> 1\u001b[0;31m matrices = matGen.SigProfilerMatrixGeneratorFunc(project, \n\u001b[0m\u001b[1;32m      2\u001b[0m                                                  \u001b[0mgenome\u001b[0m\u001b[0;34m,\u001b[0m\u001b[0;34m\u001b[0m\u001b[0;34m\u001b[0m\u001b[0m\n\u001b[1;32m      3\u001b[0m                                                  \u001b[0mvcfFiles\u001b[0m\u001b[0;34m,\u001b[0m\u001b[0;34m\u001b[0m\u001b[0;34m\u001b[0m\u001b[0m\n\u001b[1;32m      4\u001b[0m                                                  \u001b[0mexome\u001b[0m\u001b[0;34m=\u001b[0m\u001b[0;32mFalse\u001b[0m\u001b[0;34m,\u001b[0m\u001b[0;34m\u001b[0m\u001b[0;34m\u001b[0m\u001b[0m\n\u001b[1;32m      5\u001b[0m                                                  \u001b[0mbed_file\u001b[0m\u001b[0;34m=\u001b[0m\u001b[0;32mNone\u001b[0m\u001b[0;34m,\u001b[0m\u001b[0;34m\u001b[0m\u001b[0;34m\u001b[0m\u001b[0m\n",
      "\u001b[0;32m~/miniconda3/envs/sigmut_env/lib/python3.8/site-packages/SigProfilerMatrixGenerator/scripts/SigProfilerMatrixGeneratorFunc.py\u001b[0m in \u001b[0;36mSigProfilerMatrixGeneratorFunc\u001b[0;34m(project, genome, vcfFiles, exome, bed_file, chrom_based, plot, tsb_stat, seqInfo, cushion, gs)\u001b[0m\n\u001b[1;32m    364\u001b[0m                         \u001b[0mprint\u001b[0m\u001b[0;34m(\u001b[0m\u001b[0;34m\"File format not supported\"\u001b[0m\u001b[0;34m)\u001b[0m\u001b[0;34m\u001b[0m\u001b[0;34m\u001b[0m\u001b[0m\n\u001b[1;32m    365\u001b[0m \u001b[0;34m\u001b[0m\u001b[0m\n\u001b[0;32m--> 366\u001b[0;31m         \u001b[0msamples\u001b[0m \u001b[0;34m=\u001b[0m \u001b[0msorted\u001b[0m\u001b[0;34m(\u001b[0m\u001b[0msamples\u001b[0m\u001b[0;34m)\u001b[0m\u001b[0;34m\u001b[0m\u001b[0;34m\u001b[0m\u001b[0m\n\u001b[0m\u001b[1;32m    367\u001b[0m         \u001b[0mskipped_muts\u001b[0m \u001b[0;34m+=\u001b[0m \u001b[0mskipped\u001b[0m\u001b[0;34m\u001b[0m\u001b[0;34m\u001b[0m\u001b[0m\n\u001b[1;32m    368\u001b[0m \u001b[0;34m\u001b[0m\u001b[0m\n",
      "\u001b[0;31mUnboundLocalError\u001b[0m: local variable 'samples' referenced before assignment"
     ]
    }
   ],
   "source": [
    "matrices = matGen.SigProfilerMatrixGeneratorFunc(project, \n",
    "                                                 genome, \n",
    "                                                 vcfFiles, \n",
    "                                                 exome=False, \n",
    "                                                 bed_file=None, \n",
    "                                                 chrom_based=False, \n",
    "                                                 plot=True, \n",
    "                                                 tsb_stat=False, \n",
    "                                                 seqInfo=False)"
   ]
  }
 ],
 "metadata": {
  "kernelspec": {
   "display_name": "Python 3",
   "language": "python",
   "name": "python3"
  },
  "language_info": {
   "codemirror_mode": {
    "name": "ipython",
    "version": 3
   },
   "file_extension": ".py",
   "mimetype": "text/x-python",
   "name": "python",
   "nbconvert_exporter": "python",
   "pygments_lexer": "ipython3",
   "version": "3.8.3"
  }
 },
 "nbformat": 4,
 "nbformat_minor": 4
}
