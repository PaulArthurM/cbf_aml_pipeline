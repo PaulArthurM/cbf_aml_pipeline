{
 "cells": [
  {
   "cell_type": "code",
   "execution_count": 2,
   "metadata": {},
   "outputs": [
    {
     "name": "stderr",
     "output_type": "stream",
     "text": [
      "Traceback (most recent call last):\n",
      "  File \"<stdin>\", line 69, in <module>\n",
      "  File \"/home/paularthur/miniconda3/envs/notebooks/lib/python3.8/site-packages/click/core.py\", line 829, in __call__\n",
      "    return self.main(*args, **kwargs)\n",
      "  File \"/home/paularthur/miniconda3/envs/notebooks/lib/python3.8/site-packages/click/core.py\", line 782, in main\n",
      "    rv = self.invoke(ctx)\n",
      "  File \"/home/paularthur/miniconda3/envs/notebooks/lib/python3.8/site-packages/click/core.py\", line 1066, in invoke\n",
      "    return ctx.invoke(self.callback, **ctx.params)\n",
      "  File \"/home/paularthur/miniconda3/envs/notebooks/lib/python3.8/site-packages/click/core.py\", line 610, in invoke\n",
      "    return callback(*args, **kwargs)\n",
      "  File \"<stdin>\", line 63, in main\n",
      "  File \"<stdin>\", line 19, in scatter_plot_sequenza\n",
      "  File \"/home/paularthur/miniconda3/envs/notebooks/lib/python3.8/site-packages/plotly/express/_chart_types.py\", line 252, in line\n",
      "    return make_figure(args=locals(), constructor=go.Scatter)\n",
      "  File \"/home/paularthur/miniconda3/envs/notebooks/lib/python3.8/site-packages/plotly/express/_core.py\", line 1859, in make_figure\n",
      "    for val in sorted_group_values[m.grouper]:\n",
      "KeyError: 'sample'\n"
     ]
    },
    {
     "ename": "CalledProcessError",
     "evalue": "Command 'b'\\nimport sys\\nimport click\\nimport os\\nimport pandas as pd\\nimport os.path\\nimport plotly.express as px\\n\\n\\n\\n\\ndef extract_cellularity(file, sample):\\n    sequenza_out = pd.read_csv(file, sep=\"\\\\t\")\\n    sequenza_out[\\'sample\\'] = pd.Series(sample, index=sequenza_out.index)\\n    return sequenza_out\\n\\n\\ndef scatter_plot_sequenza(sequenza_data, output, dir_out):\\n    fig = px.line(sequenza_data, x=\"ploidy.estimate\", y=\"cellularity\", color=\"sample\")\\n    print(dir_out+output)\\n    #fig.write_image(dir_out+output)\\n    fig.show()\\n\\n\\ndef create_empty_df():\\n    column_names = [\"cellularity\", \"ploidy.estimate\", \"ploidy.mean.cn\", \"sample\"]\\n    return pd.DataFrame(columns = column_names)\\n\\n\\ndef load_sample_sheet(sample_sheet):\\n    # Load sample sheet\\n    sample_sheet = pd.read_csv(sample_sheet, sep=\";\")\\n    SAMPLES = sample_sheet[\\'samples\\']\\n    SAMPLE = sample_sheet.set_index(\"samples\", drop = False)\\n    return SAMPLE\\n\\n\\ndef create_df(SAMPLE, dir_sequenza):\\n    sequenza_data = create_empty_df()\\n    for sample in SAMPLE[\"samples\"]:\\n        file = dir_sequenza + \"sequenza/{sample}_seqz/{sample}_confints_CP.txt\".format(sample=sample)\\n        if os.path.isfile(file):\\n            sequenza_out = extract_cellularity(file, sample)\\n            sequenza_data = sequenza_data.append(pd.DataFrame(data = sequenza_out), ignore_index=True)\\n    return sequenza_data\\n\\n\\n@click.command()\\n@click.option(\\'-o\\', \\'--output\\', default=None, help=\"Output.\", required=True)\\n@click.option(\\'-d\\', \\'--dir-out\\', default=None, required=True, help=\"Output directory.\")\\n@click.option(\\'-s\\', \\'--sample-sheet\\', default=None, required=True, help=\"Sample-sheet.\")\\n@click.option(\\'-z\\', \\'--dir-sequenza\\', default=None, help=\"Sequenza results.\", required=True)\\n@click.option(\\'-n\\', \\'--dry-run\\', default=False, help=\"Dry-run.\", type=bool)\\ndef main(output, dir_out, sample_sheet, dir_sequenza, dry_run):\\n    SAMPLE = load_sample_sheet(sample_sheet)\\n    if dry_run:\\n        print(create_df(SAMPLE, dir_sequenza))\\n    else:\\n        if not os.path.exists(dir_out):\\n            os.mkdir(dir_out)\\n\\n        sequenza_data = create_df(SAMPLE, dir_sequenza)\\n        scatter_plot_sequenza(sequenza_data, output, dir_out)\\n\\n\\nif __name__==\"__main__\":\\n    #sys.argv = [\\'\\', \\'-o\\', \\'ploidy_cellularity.png\\', \\'-d\\', \\'notebooks/images\\', \\'-s\\', \\'config/sample-sheet.csv\\', \\'-z\\', \\'results/testChr22/\\', \\'-n\\', \\'True\\']\\n    sys.argv = [\\'\\', \\'-o\\', \\'ploidy_cellularity_2.png\\', \\'-d\\', \\'images/\\', \\'-s\\', \\'../config/sample-sheet.csv\\', \\'-z\\', \\'../results/sequenza_results/\\', \\'-n\\', \\'False\\']\\n    main()\\n'' returned non-zero exit status 1.",
     "output_type": "error",
     "traceback": [
      "\u001b[0;31m---------------------------------------------------------------------------\u001b[0m",
      "\u001b[0;31mCalledProcessError\u001b[0m                        Traceback (most recent call last)",
      "\u001b[0;32m<ipython-input-2-7526f37f287f>\u001b[0m in \u001b[0;36m<module>\u001b[0;34m\u001b[0m\n\u001b[0;32m----> 1\u001b[0;31m \u001b[0mget_ipython\u001b[0m\u001b[0;34m(\u001b[0m\u001b[0;34m)\u001b[0m\u001b[0;34m.\u001b[0m\u001b[0mrun_cell_magic\u001b[0m\u001b[0;34m(\u001b[0m\u001b[0;34m'python'\u001b[0m\u001b[0;34m,\u001b[0m \u001b[0;34m''\u001b[0m\u001b[0;34m,\u001b[0m \u001b[0;34m'\\nimport sys\\nimport click\\nimport os\\nimport pandas as pd\\nimport os.path\\nimport plotly.express as px\\n\\n\\n\\n\\ndef extract_cellularity(file, sample):\\n    sequenza_out = pd.read_csv(file, sep=\"\\\\t\")\\n    sequenza_out[\\'sample\\'] = pd.Series(sample, index=sequenza_out.index)\\n    return sequenza_out\\n\\n\\ndef scatter_plot_sequenza(sequenza_data, output, dir_out):\\n    fig = px.line(sequenza_data, x=\"ploidy.estimate\", y=\"cellularity\", color=\"sample\")\\n    print(dir_out+output)\\n    #fig.write_image(dir_out+output)\\n    fig.show()\\n\\n\\ndef create_empty_df():\\n    column_names = [\"cellularity\", \"ploidy.estimate\", \"ploidy.mean.cn\", \"sample\"]\\n    return pd.DataFrame(columns = column_names)\\n\\n\\ndef load_sample_sheet(sample_sheet):\\n    # Load sample sheet\\n    sample_sheet = pd.read_csv(sample_sheet, sep=\";\")\\n    SAMPLES = sample_sheet[\\'samples\\']\\n    SAMPLE = sample_sheet.set_index(\"samples\", drop = False)\\n    return SAMPLE\\n\\n\\ndef create_df(SAMPLE, dir_sequenza):\\n    sequenza_data = create_empty_df()\\n    for sample in SAMPLE[\"samples\"]:\\n        file = dir_sequenza + \"sequenza/{sample}_seqz/{sample}_confints_CP.txt\".format(sample=sample)\\n        if os.path.isfile(file):\\n            sequenza_out = extract_cellularity(file, sample)\\n            sequenza_data = sequenza_data.append(pd.DataFrame(data = sequenza_out), ignore_index=True)\\n    return sequenza_data\\n\\n\\n@click.command()\\n@click.option(\\'-o\\', \\'--output\\', default=None, help=\"Output.\", required=True)\\n@click.option(\\'-d\\', \\'--dir-out\\', default=None, required=True, help=\"Output directory.\")\\n@click.option(\\'-s\\', \\'--sample-sheet\\', default=None, required=True, help=\"Sample-sheet.\")\\n@click.option(\\'-z\\', \\'--dir-sequenza\\', default=None, help=\"Sequenza results.\", required=True)\\n@click.option(\\'-n\\', \\'--dry-run\\', default=False, help=\"Dry-run.\", type=bool)\\ndef main(output, dir_out, sample_sheet, dir_sequenza, dry_run):\\n    SAMPLE = load_sample_sheet(sample_sheet)\\n    if dry_run:\\n        print(create_df(SAMPLE, dir_sequenza))\\n    else:\\n        if not os.path.exists(dir_out):\\n            os.mkdir(dir_out)\\n\\n        sequenza_data = create_df(SAMPLE, dir_sequenza)\\n        scatter_plot_sequenza(sequenza_data, output, dir_out)\\n\\n\\nif __name__==\"__main__\":\\n    #sys.argv = [\\'\\', \\'-o\\', \\'ploidy_cellularity.png\\', \\'-d\\', \\'notebooks/images\\', \\'-s\\', \\'config/sample-sheet.csv\\', \\'-z\\', \\'results/testChr22/\\', \\'-n\\', \\'True\\']\\n    sys.argv = [\\'\\', \\'-o\\', \\'ploidy_cellularity_2.png\\', \\'-d\\', \\'images/\\', \\'-s\\', \\'../config/sample-sheet.csv\\', \\'-z\\', \\'../results/sequenza_results/\\', \\'-n\\', \\'False\\']\\n    main()\\n'\u001b[0m\u001b[0;34m)\u001b[0m\u001b[0;34m\u001b[0m\u001b[0;34m\u001b[0m\u001b[0m\n\u001b[0m",
      "\u001b[0;32m~/miniconda3/envs/notebooks/lib/python3.8/site-packages/IPython/core/interactiveshell.py\u001b[0m in \u001b[0;36mrun_cell_magic\u001b[0;34m(self, magic_name, line, cell)\u001b[0m\n\u001b[1;32m   2379\u001b[0m             \u001b[0;32mwith\u001b[0m \u001b[0mself\u001b[0m\u001b[0;34m.\u001b[0m\u001b[0mbuiltin_trap\u001b[0m\u001b[0;34m:\u001b[0m\u001b[0;34m\u001b[0m\u001b[0;34m\u001b[0m\u001b[0m\n\u001b[1;32m   2380\u001b[0m                 \u001b[0margs\u001b[0m \u001b[0;34m=\u001b[0m \u001b[0;34m(\u001b[0m\u001b[0mmagic_arg_s\u001b[0m\u001b[0;34m,\u001b[0m \u001b[0mcell\u001b[0m\u001b[0;34m)\u001b[0m\u001b[0;34m\u001b[0m\u001b[0;34m\u001b[0m\u001b[0m\n\u001b[0;32m-> 2381\u001b[0;31m                 \u001b[0mresult\u001b[0m \u001b[0;34m=\u001b[0m \u001b[0mfn\u001b[0m\u001b[0;34m(\u001b[0m\u001b[0;34m*\u001b[0m\u001b[0margs\u001b[0m\u001b[0;34m,\u001b[0m \u001b[0;34m**\u001b[0m\u001b[0mkwargs\u001b[0m\u001b[0;34m)\u001b[0m\u001b[0;34m\u001b[0m\u001b[0;34m\u001b[0m\u001b[0m\n\u001b[0m\u001b[1;32m   2382\u001b[0m             \u001b[0;32mreturn\u001b[0m \u001b[0mresult\u001b[0m\u001b[0;34m\u001b[0m\u001b[0;34m\u001b[0m\u001b[0m\n\u001b[1;32m   2383\u001b[0m \u001b[0;34m\u001b[0m\u001b[0m\n",
      "\u001b[0;32m~/miniconda3/envs/notebooks/lib/python3.8/site-packages/IPython/core/magics/script.py\u001b[0m in \u001b[0;36mnamed_script_magic\u001b[0;34m(line, cell)\u001b[0m\n\u001b[1;32m    140\u001b[0m             \u001b[0;32melse\u001b[0m\u001b[0;34m:\u001b[0m\u001b[0;34m\u001b[0m\u001b[0;34m\u001b[0m\u001b[0m\n\u001b[1;32m    141\u001b[0m                 \u001b[0mline\u001b[0m \u001b[0;34m=\u001b[0m \u001b[0mscript\u001b[0m\u001b[0;34m\u001b[0m\u001b[0;34m\u001b[0m\u001b[0m\n\u001b[0;32m--> 142\u001b[0;31m             \u001b[0;32mreturn\u001b[0m \u001b[0mself\u001b[0m\u001b[0;34m.\u001b[0m\u001b[0mshebang\u001b[0m\u001b[0;34m(\u001b[0m\u001b[0mline\u001b[0m\u001b[0;34m,\u001b[0m \u001b[0mcell\u001b[0m\u001b[0;34m)\u001b[0m\u001b[0;34m\u001b[0m\u001b[0;34m\u001b[0m\u001b[0m\n\u001b[0m\u001b[1;32m    143\u001b[0m \u001b[0;34m\u001b[0m\u001b[0m\n\u001b[1;32m    144\u001b[0m         \u001b[0;31m# write a basic docstring:\u001b[0m\u001b[0;34m\u001b[0m\u001b[0;34m\u001b[0m\u001b[0;34m\u001b[0m\u001b[0m\n",
      "\u001b[0;32m<decorator-gen-110>\u001b[0m in \u001b[0;36mshebang\u001b[0;34m(self, line, cell)\u001b[0m\n",
      "\u001b[0;32m~/miniconda3/envs/notebooks/lib/python3.8/site-packages/IPython/core/magic.py\u001b[0m in \u001b[0;36m<lambda>\u001b[0;34m(f, *a, **k)\u001b[0m\n\u001b[1;32m    185\u001b[0m     \u001b[0;31m# but it's overkill for just that one bit of state.\u001b[0m\u001b[0;34m\u001b[0m\u001b[0;34m\u001b[0m\u001b[0;34m\u001b[0m\u001b[0m\n\u001b[1;32m    186\u001b[0m     \u001b[0;32mdef\u001b[0m \u001b[0mmagic_deco\u001b[0m\u001b[0;34m(\u001b[0m\u001b[0marg\u001b[0m\u001b[0;34m)\u001b[0m\u001b[0;34m:\u001b[0m\u001b[0;34m\u001b[0m\u001b[0;34m\u001b[0m\u001b[0m\n\u001b[0;32m--> 187\u001b[0;31m         \u001b[0mcall\u001b[0m \u001b[0;34m=\u001b[0m \u001b[0;32mlambda\u001b[0m \u001b[0mf\u001b[0m\u001b[0;34m,\u001b[0m \u001b[0;34m*\u001b[0m\u001b[0ma\u001b[0m\u001b[0;34m,\u001b[0m \u001b[0;34m**\u001b[0m\u001b[0mk\u001b[0m\u001b[0;34m:\u001b[0m \u001b[0mf\u001b[0m\u001b[0;34m(\u001b[0m\u001b[0;34m*\u001b[0m\u001b[0ma\u001b[0m\u001b[0;34m,\u001b[0m \u001b[0;34m**\u001b[0m\u001b[0mk\u001b[0m\u001b[0;34m)\u001b[0m\u001b[0;34m\u001b[0m\u001b[0;34m\u001b[0m\u001b[0m\n\u001b[0m\u001b[1;32m    188\u001b[0m \u001b[0;34m\u001b[0m\u001b[0m\n\u001b[1;32m    189\u001b[0m         \u001b[0;32mif\u001b[0m \u001b[0mcallable\u001b[0m\u001b[0;34m(\u001b[0m\u001b[0marg\u001b[0m\u001b[0;34m)\u001b[0m\u001b[0;34m:\u001b[0m\u001b[0;34m\u001b[0m\u001b[0;34m\u001b[0m\u001b[0m\n",
      "\u001b[0;32m~/miniconda3/envs/notebooks/lib/python3.8/site-packages/IPython/core/magics/script.py\u001b[0m in \u001b[0;36mshebang\u001b[0;34m(self, line, cell)\u001b[0m\n\u001b[1;32m    243\u001b[0m             \u001b[0msys\u001b[0m\u001b[0;34m.\u001b[0m\u001b[0mstderr\u001b[0m\u001b[0;34m.\u001b[0m\u001b[0mflush\u001b[0m\u001b[0;34m(\u001b[0m\u001b[0;34m)\u001b[0m\u001b[0;34m\u001b[0m\u001b[0;34m\u001b[0m\u001b[0m\n\u001b[1;32m    244\u001b[0m         \u001b[0;32mif\u001b[0m \u001b[0margs\u001b[0m\u001b[0;34m.\u001b[0m\u001b[0mraise_error\u001b[0m \u001b[0;32mand\u001b[0m \u001b[0mp\u001b[0m\u001b[0;34m.\u001b[0m\u001b[0mreturncode\u001b[0m\u001b[0;34m!=\u001b[0m\u001b[0;36m0\u001b[0m\u001b[0;34m:\u001b[0m\u001b[0;34m\u001b[0m\u001b[0;34m\u001b[0m\u001b[0m\n\u001b[0;32m--> 245\u001b[0;31m             \u001b[0;32mraise\u001b[0m \u001b[0mCalledProcessError\u001b[0m\u001b[0;34m(\u001b[0m\u001b[0mp\u001b[0m\u001b[0;34m.\u001b[0m\u001b[0mreturncode\u001b[0m\u001b[0;34m,\u001b[0m \u001b[0mcell\u001b[0m\u001b[0;34m,\u001b[0m \u001b[0moutput\u001b[0m\u001b[0;34m=\u001b[0m\u001b[0mout\u001b[0m\u001b[0;34m,\u001b[0m \u001b[0mstderr\u001b[0m\u001b[0;34m=\u001b[0m\u001b[0merr\u001b[0m\u001b[0;34m)\u001b[0m\u001b[0;34m\u001b[0m\u001b[0;34m\u001b[0m\u001b[0m\n\u001b[0m\u001b[1;32m    246\u001b[0m \u001b[0;34m\u001b[0m\u001b[0m\n\u001b[1;32m    247\u001b[0m     \u001b[0;32mdef\u001b[0m \u001b[0m_run_script\u001b[0m\u001b[0;34m(\u001b[0m\u001b[0mself\u001b[0m\u001b[0;34m,\u001b[0m \u001b[0mp\u001b[0m\u001b[0;34m,\u001b[0m \u001b[0mcell\u001b[0m\u001b[0;34m,\u001b[0m \u001b[0mto_close\u001b[0m\u001b[0;34m)\u001b[0m\u001b[0;34m:\u001b[0m\u001b[0;34m\u001b[0m\u001b[0;34m\u001b[0m\u001b[0m\n",
      "\u001b[0;31mCalledProcessError\u001b[0m: Command 'b'\\nimport sys\\nimport click\\nimport os\\nimport pandas as pd\\nimport os.path\\nimport plotly.express as px\\n\\n\\n\\n\\ndef extract_cellularity(file, sample):\\n    sequenza_out = pd.read_csv(file, sep=\"\\\\t\")\\n    sequenza_out[\\'sample\\'] = pd.Series(sample, index=sequenza_out.index)\\n    return sequenza_out\\n\\n\\ndef scatter_plot_sequenza(sequenza_data, output, dir_out):\\n    fig = px.line(sequenza_data, x=\"ploidy.estimate\", y=\"cellularity\", color=\"sample\")\\n    print(dir_out+output)\\n    #fig.write_image(dir_out+output)\\n    fig.show()\\n\\n\\ndef create_empty_df():\\n    column_names = [\"cellularity\", \"ploidy.estimate\", \"ploidy.mean.cn\", \"sample\"]\\n    return pd.DataFrame(columns = column_names)\\n\\n\\ndef load_sample_sheet(sample_sheet):\\n    # Load sample sheet\\n    sample_sheet = pd.read_csv(sample_sheet, sep=\";\")\\n    SAMPLES = sample_sheet[\\'samples\\']\\n    SAMPLE = sample_sheet.set_index(\"samples\", drop = False)\\n    return SAMPLE\\n\\n\\ndef create_df(SAMPLE, dir_sequenza):\\n    sequenza_data = create_empty_df()\\n    for sample in SAMPLE[\"samples\"]:\\n        file = dir_sequenza + \"sequenza/{sample}_seqz/{sample}_confints_CP.txt\".format(sample=sample)\\n        if os.path.isfile(file):\\n            sequenza_out = extract_cellularity(file, sample)\\n            sequenza_data = sequenza_data.append(pd.DataFrame(data = sequenza_out), ignore_index=True)\\n    return sequenza_data\\n\\n\\n@click.command()\\n@click.option(\\'-o\\', \\'--output\\', default=None, help=\"Output.\", required=True)\\n@click.option(\\'-d\\', \\'--dir-out\\', default=None, required=True, help=\"Output directory.\")\\n@click.option(\\'-s\\', \\'--sample-sheet\\', default=None, required=True, help=\"Sample-sheet.\")\\n@click.option(\\'-z\\', \\'--dir-sequenza\\', default=None, help=\"Sequenza results.\", required=True)\\n@click.option(\\'-n\\', \\'--dry-run\\', default=False, help=\"Dry-run.\", type=bool)\\ndef main(output, dir_out, sample_sheet, dir_sequenza, dry_run):\\n    SAMPLE = load_sample_sheet(sample_sheet)\\n    if dry_run:\\n        print(create_df(SAMPLE, dir_sequenza))\\n    else:\\n        if not os.path.exists(dir_out):\\n            os.mkdir(dir_out)\\n\\n        sequenza_data = create_df(SAMPLE, dir_sequenza)\\n        scatter_plot_sequenza(sequenza_data, output, dir_out)\\n\\n\\nif __name__==\"__main__\":\\n    #sys.argv = [\\'\\', \\'-o\\', \\'ploidy_cellularity.png\\', \\'-d\\', \\'notebooks/images\\', \\'-s\\', \\'config/sample-sheet.csv\\', \\'-z\\', \\'results/testChr22/\\', \\'-n\\', \\'True\\']\\n    sys.argv = [\\'\\', \\'-o\\', \\'ploidy_cellularity_2.png\\', \\'-d\\', \\'images/\\', \\'-s\\', \\'../config/sample-sheet.csv\\', \\'-z\\', \\'../results/sequenza_results/\\', \\'-n\\', \\'False\\']\\n    main()\\n'' returned non-zero exit status 1."
     ]
    }
   ],
   "source": [
    "%%python\n",
    "\n",
    "import sys\n",
    "import click\n",
    "import os\n",
    "import pandas as pd\n",
    "import os.path\n",
    "import plotly.express as px\n",
    "\n",
    "\n",
    "\n",
    "\n",
    "def extract_cellularity(file, sample):\n",
    "    sequenza_out = pd.read_csv(file, sep=\"\\t\")\n",
    "    sequenza_out['sample'] = pd.Series(sample, index=sequenza_out.index)\n",
    "    return sequenza_out\n",
    "\n",
    "\n",
    "def scatter_plot_sequenza(sequenza_data, output, dir_out):\n",
    "    fig = px.line(sequenza_data, x=\"ploidy.estimate\", y=\"cellularity\", color=\"sample\")\n",
    "    print(dir_out+output)\n",
    "    #fig.write_image(dir_out+output)\n",
    "    fig.show()\n",
    "\n",
    "\n",
    "def create_empty_df():\n",
    "    column_names = [\"cellularity\", \"ploidy.estimate\", \"ploidy.mean.cn\", \"sample\"]\n",
    "    return pd.DataFrame(columns = column_names)\n",
    "\n",
    "\n",
    "def load_sample_sheet(sample_sheet):\n",
    "    # Load sample sheet\n",
    "    sample_sheet = pd.read_csv(sample_sheet, sep=\";\")\n",
    "    SAMPLES = sample_sheet['samples']\n",
    "    SAMPLE = sample_sheet.set_index(\"samples\", drop = False)\n",
    "    return SAMPLE\n",
    "\n",
    "\n",
    "def create_df(SAMPLE, dir_sequenza):\n",
    "    sequenza_data = create_empty_df()\n",
    "    for sample in SAMPLE[\"samples\"]:\n",
    "        file = dir_sequenza + \"sequenza/{sample}_seqz/{sample}_confints_CP.txt\".format(sample=sample)\n",
    "        if os.path.isfile(file):\n",
    "            sequenza_out = extract_cellularity(file, sample)\n",
    "            sequenza_data = sequenza_data.append(pd.DataFrame(data = sequenza_out), ignore_index=True)\n",
    "    return sequenza_data\n",
    "\n",
    "\n",
    "@click.command()\n",
    "@click.option('-o', '--output', default=None, help=\"Output.\", required=True)\n",
    "@click.option('-d', '--dir-out', default=None, required=True, help=\"Output directory.\")\n",
    "@click.option('-s', '--sample-sheet', default=None, required=True, help=\"Sample-sheet.\")\n",
    "@click.option('-z', '--dir-sequenza', default=None, help=\"Sequenza results.\", required=True)\n",
    "@click.option('-n', '--dry-run', default=False, help=\"Dry-run.\", type=bool)\n",
    "def main(output, dir_out, sample_sheet, dir_sequenza, dry_run):\n",
    "    SAMPLE = load_sample_sheet(sample_sheet)\n",
    "    if dry_run:\n",
    "        print(create_df(SAMPLE, dir_sequenza))\n",
    "    else:\n",
    "        if not os.path.exists(dir_out):\n",
    "            os.mkdir(dir_out)\n",
    "\n",
    "        sequenza_data = create_df(SAMPLE, dir_sequenza)\n",
    "        print(sequenza_data)\n",
    "        scatter_plot_sequenza(sequenza_data, output, dir_out)\n",
    "\n",
    "\n",
    "if __name__==\"__main__\":\n",
    "    #sys.argv = ['', '-o', 'ploidy_cellularity.png', '-d', 'notebooks/images', '-s', 'config/sample-sheet.csv', '-z', 'results/testChr22/', '-n', 'True']\n",
    "    sys.argv = ['', '-o', 'ploidy_cellularity_2.png', '-d', 'images/', '-s', '../config/sample-sheet.csv', '-z', '../results/sequenza_results/', '-n', 'False']\n",
    "    main()\n"
   ]
  },
  {
   "cell_type": "code",
   "execution_count": null,
   "metadata": {},
   "outputs": [],
   "source": []
  },
  {
   "cell_type": "code",
   "execution_count": null,
   "metadata": {},
   "outputs": [],
   "source": []
  }
 ],
 "metadata": {
  "kernelspec": {
   "display_name": "Python 3",
   "language": "python",
   "name": "python3"
  },
  "language_info": {
   "codemirror_mode": {
    "name": "ipython",
    "version": 3
   },
   "file_extension": ".py",
   "mimetype": "text/x-python",
   "name": "python",
   "nbconvert_exporter": "python",
   "pygments_lexer": "ipython3",
   "version": "3.8.5"
  }
 },
 "nbformat": 4,
 "nbformat_minor": 4
}
